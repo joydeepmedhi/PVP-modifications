{
 "cells": [
  {
   "cell_type": "code",
   "execution_count": 5,
   "metadata": {
    "collapsed": false
   },
   "outputs": [],
   "source": [
    "import pandas as pd\n",
    "import numpy as np\n",
    "\n",
    "df = pd.read_csv('PVP_new_data.csv')\n"
   ]
  },
  {
   "cell_type": "code",
   "execution_count": 10,
   "metadata": {
    "collapsed": false
   },
   "outputs": [
    {
     "data": {
      "text/html": [
       "<div>\n",
       "<table border=\"1\" class=\"dataframe\">\n",
       "  <thead>\n",
       "    <tr style=\"text-align: right;\">\n",
       "      <th></th>\n",
       "      <th>Label</th>\n",
       "      <th>Chr</th>\n",
       "      <th>Position</th>\n",
       "      <th>RSID</th>\n",
       "      <th>Ref</th>\n",
       "      <th>Alt</th>\n",
       "      <th>Gene</th>\n",
       "      <th>GT</th>\n",
       "      <th>OMIM</th>\n",
       "      <th>CADD</th>\n",
       "      <th>...</th>\n",
       "      <th>MP_0012719</th>\n",
       "      <th>MP_0013328</th>\n",
       "      <th>Inheritence_mode_0</th>\n",
       "      <th>Inheritence_mode_1</th>\n",
       "      <th>Inheritence_mode_2</th>\n",
       "      <th>Inheritence_mode_3</th>\n",
       "      <th>CADD_impute</th>\n",
       "      <th>GWAVA_impute</th>\n",
       "      <th>Similarity_score_impute</th>\n",
       "      <th>DANN_impute</th>\n",
       "    </tr>\n",
       "  </thead>\n",
       "  <tbody>\n",
       "    <tr>\n",
       "      <th>0</th>\n",
       "      <td>1</td>\n",
       "      <td>7</td>\n",
       "      <td>4820844</td>\n",
       "      <td>rs397704705</td>\n",
       "      <td>GGAT</td>\n",
       "      <td>TGCTGTAAACTGTAACTGTAAA</td>\n",
       "      <td>AP5Z1</td>\n",
       "      <td>1</td>\n",
       "      <td>613647</td>\n",
       "      <td>29.500</td>\n",
       "      <td>...</td>\n",
       "      <td>0</td>\n",
       "      <td>0</td>\n",
       "      <td>0</td>\n",
       "      <td>1</td>\n",
       "      <td>0</td>\n",
       "      <td>0</td>\n",
       "      <td>0</td>\n",
       "      <td>0</td>\n",
       "      <td>0</td>\n",
       "      <td>0</td>\n",
       "    </tr>\n",
       "    <tr>\n",
       "      <th>1</th>\n",
       "      <td>0</td>\n",
       "      <td>7</td>\n",
       "      <td>4833639</td>\n",
       "      <td>rs2880933</td>\n",
       "      <td>A</td>\n",
       "      <td>C</td>\n",
       "      <td>AP5Z1</td>\n",
       "      <td>1</td>\n",
       "      <td>613647</td>\n",
       "      <td>0.027</td>\n",
       "      <td>...</td>\n",
       "      <td>0</td>\n",
       "      <td>0</td>\n",
       "      <td>0</td>\n",
       "      <td>1</td>\n",
       "      <td>0</td>\n",
       "      <td>0</td>\n",
       "      <td>0</td>\n",
       "      <td>0</td>\n",
       "      <td>0</td>\n",
       "      <td>0</td>\n",
       "    </tr>\n",
       "    <tr>\n",
       "      <th>2</th>\n",
       "      <td>1</td>\n",
       "      <td>7</td>\n",
       "      <td>4827366</td>\n",
       "      <td>rs397704709</td>\n",
       "      <td>GGACCTGCCCTGCT</td>\n",
       "      <td>-</td>\n",
       "      <td>AP5Z1</td>\n",
       "      <td>1</td>\n",
       "      <td>613647</td>\n",
       "      <td>36.000</td>\n",
       "      <td>...</td>\n",
       "      <td>0</td>\n",
       "      <td>0</td>\n",
       "      <td>0</td>\n",
       "      <td>1</td>\n",
       "      <td>0</td>\n",
       "      <td>0</td>\n",
       "      <td>0</td>\n",
       "      <td>0</td>\n",
       "      <td>0</td>\n",
       "      <td>0</td>\n",
       "    </tr>\n",
       "    <tr>\n",
       "      <th>3</th>\n",
       "      <td>0</td>\n",
       "      <td>7</td>\n",
       "      <td>4827366</td>\n",
       "      <td>rs397704709</td>\n",
       "      <td>GGACCTGCCCTGCT</td>\n",
       "      <td>-</td>\n",
       "      <td>AP5Z1</td>\n",
       "      <td>1</td>\n",
       "      <td>170500</td>\n",
       "      <td>36.000</td>\n",
       "      <td>...</td>\n",
       "      <td>0</td>\n",
       "      <td>0</td>\n",
       "      <td>1</td>\n",
       "      <td>0</td>\n",
       "      <td>0</td>\n",
       "      <td>0</td>\n",
       "      <td>0</td>\n",
       "      <td>0</td>\n",
       "      <td>0</td>\n",
       "      <td>0</td>\n",
       "    </tr>\n",
       "    <tr>\n",
       "      <th>4</th>\n",
       "      <td>1</td>\n",
       "      <td>11</td>\n",
       "      <td>126145284</td>\n",
       "      <td>rs267606829</td>\n",
       "      <td>C</td>\n",
       "      <td>T</td>\n",
       "      <td>FOXRED1</td>\n",
       "      <td>1</td>\n",
       "      <td>252010</td>\n",
       "      <td>27.700</td>\n",
       "      <td>...</td>\n",
       "      <td>0</td>\n",
       "      <td>0</td>\n",
       "      <td>0</td>\n",
       "      <td>1</td>\n",
       "      <td>0</td>\n",
       "      <td>0</td>\n",
       "      <td>0</td>\n",
       "      <td>0</td>\n",
       "      <td>0</td>\n",
       "      <td>0</td>\n",
       "    </tr>\n",
       "  </tbody>\n",
       "</table>\n",
       "<p>5 rows × 75 columns</p>\n",
       "</div>"
      ],
      "text/plain": [
       "   Label Chr   Position         RSID             Ref                     Alt  \\\n",
       "0      1   7    4820844  rs397704705            GGAT  TGCTGTAAACTGTAACTGTAAA   \n",
       "1      0   7    4833639    rs2880933               A                       C   \n",
       "2      1   7    4827366  rs397704709  GGACCTGCCCTGCT                       -   \n",
       "3      0   7    4827366  rs397704709  GGACCTGCCCTGCT                       -   \n",
       "4      1  11  126145284  rs267606829               C                       T   \n",
       "\n",
       "      Gene  GT    OMIM    CADD     ...       MP_0012719  MP_0013328  \\\n",
       "0    AP5Z1   1  613647  29.500     ...                0           0   \n",
       "1    AP5Z1   1  613647   0.027     ...                0           0   \n",
       "2    AP5Z1   1  613647  36.000     ...                0           0   \n",
       "3    AP5Z1   1  170500  36.000     ...                0           0   \n",
       "4  FOXRED1   1  252010  27.700     ...                0           0   \n",
       "\n",
       "   Inheritence_mode_0  Inheritence_mode_1  Inheritence_mode_2  \\\n",
       "0                   0                   1                   0   \n",
       "1                   0                   1                   0   \n",
       "2                   0                   1                   0   \n",
       "3                   1                   0                   0   \n",
       "4                   0                   1                   0   \n",
       "\n",
       "   Inheritence_mode_3  CADD_impute  GWAVA_impute  Similarity_score_impute  \\\n",
       "0                   0            0             0                        0   \n",
       "1                   0            0             0                        0   \n",
       "2                   0            0             0                        0   \n",
       "3                   0            0             0                        0   \n",
       "4                   0            0             0                        0   \n",
       "\n",
       "   DANN_impute  \n",
       "0            0  \n",
       "1            0  \n",
       "2            0  \n",
       "3            0  \n",
       "4            0  \n",
       "\n",
       "[5 rows x 75 columns]"
      ]
     },
     "execution_count": 10,
     "metadata": {},
     "output_type": "execute_result"
    }
   ],
   "source": [
    "df.head()"
   ]
  },
  {
   "cell_type": "code",
   "execution_count": 35,
   "metadata": {
    "collapsed": false
   },
   "outputs": [
    {
     "name": "stdout",
     "output_type": "stream",
     "text": [
      "390\n",
      "390\n",
      "\n",
      "\n",
      "[604169, 616468, 604187, 601776, 614437, 616488, 614441, 616490, 616491, 272430, 153650, 258100, 612703, 616515, 610374, 180295, 130060, 614482, 616534, 616539, 177850, 614497, 614498, 106600, 600175, 123000, 223360, 186500, 610445, 608415, 604321, 108721, 254130, 600251, 141500, 604352, 614594, 616649, 616672, 610532, 602347, 616829, 309630, 614654, 610688, 254210, 400044, 231690, 153870, 616721, 612631, 600348, 616733, 500008, 612649, 305450, 614700, 610612, 608565, 206900, 227645, 608578, 614727, 182600, 604498, 614743, 610651, 612702, 612069, 262500, 270700, 121200, 602481, 256370, 617194, 248190, 137600, 612740, 248200, 608654, 608323, 614813, 608673, 276901, 190900, 614841, 248250, 600513, 615500, 113100, 614873, 616924, 614877, 614878, 606693, 614893, 606705, 616946, 616958, 612438, 143880, 115210, 614923, 614929, 143890, 614935, 610842, 256540, 176670, 610852, 162350, 614959, 113200, 207410, 612918, 125500, 612932, 133701, 248390, 240200, 612938, 612940, 617046, 612951, 617056, 617061, 617068, 615035, 221820, 610947, 604804, 608022, 617113, 604271, 613029, 617126, 608940, 617137, 246450, 277180, 105150, 617153, 262850, 311200, 193220, 608970, 608971, 617164, 613078, 617184, 617190, 201450, 156400, 609016, 602875, 615552, 125700, 617223, 609033, 611090, 617239, 600858, 613159, 277300, 611126, 617271, 615224, 615225, 617276, 612015, 611134, 615233, 613193, 269150, 605027, 615279, 615280, 605041, 156530, 600955, 207750, 613255, 600974, 117650, 600996, 607155, 203700, 615355, 611263, 613312, 615362, 613320, 136140, 615376, 185300, 240600, 609241, 300000, 193510, 201710, 615411, 220150, 615415, 615418, 300029, 613376, 607745, 601098, 615436, 300048, 609308, 314400, 608776, 220210, 615485, 605259, 154700, 133700, 300114, 615510, 214110, 613471, 613493, 146550, 255100, 601216, 616640, 607371, 609439, 611489, 611497, 257200, 615607, 163000, 128200, 248000, 615631, 116600, 300243, 242900, 607450, 611553, 603373, 611588, 253200, 159000, 601369, 613659, 613661, 124200, 613673, 613677, 142900, 247100, 609597, 600630, 615750, 136520, 230740, 613717, 615768, 259420, 271930, 253280, 208230, 613757, 222600, 615824, 601492, 615830, 239000, 617028, 613789, 261540, 161200, 615859, 220600, 611771, 226750, 601536, 260000, 601543, 300495, 613848, 611804, 263650, 613860, 615916, 610265, 613876, 613886, 615937, 300558, 615954, 607765, 261670, 607791, 615987, 615988, 615994, 615996, 530000, 616022, 130650, 611938, 245348, 613989, 613990, 601705, 147060, 616053, 614008, 614021, 123500, 609560, 613657, 202400, 616108, 615709, 136880, 118450, 175800, 229050, 614075, 614083, 229070, 302800, 616145, 614099, 306900, 616154, 268000, 300770, 616165, 245480, 612079, 614132, 500009, 603896, 610042, 616193, 300804, 616208, 614162, 616214, 612313, 112410, 614172, 614173, 616230, 616231, 147250, 614203, 159550, 114500, 616263, 616269, 614222, 614225, 616276, 616286, 145250, 612199, 614249, 300908, 262000, 300914, 114550, 270200, 614039, 227650, 616340, 614293, 200600, 300957, 602014, 300960, 614331, 614335, 612463, 612300, 616399, 610256, 255960, 616409, 616411, 602083, 616421, 616433, 616445]\n"
     ]
    }
   ],
   "source": [
    "arr = df.OMIM.unique()\n",
    "\n",
    "import random\n",
    "\n",
    "# In-place shuffle\n",
    "random.shuffle(arr)\n",
    "# Take the first 2 elements of the now randomized array\n",
    "test = arr[0:len(arr)/10]\n",
    "val = arr[-len(arr)/10:]\n",
    "\n",
    "\n",
    "train = list(set(test) - set(val))\n",
    "\n",
    "print len(train)\n",
    "print len(test)\n",
    "print '\\n'\n",
    "print train"
   ]
  },
  {
   "cell_type": "code",
   "execution_count": 39,
   "metadata": {
    "collapsed": false
   },
   "outputs": [
    {
     "data": {
      "text/plain": [
       "(105532, 75)"
      ]
     },
     "execution_count": 39,
     "metadata": {},
     "output_type": "execute_result"
    }
   ],
   "source": [
    "df = df.sort_values(['OMIM'])\n",
    "\n",
    "df.head()\n",
    "\n",
    "df.shape"
   ]
  },
  {
   "cell_type": "code",
   "execution_count": 52,
   "metadata": {
    "collapsed": false
   },
   "outputs": [],
   "source": [
    "df_a = df.iloc[0:5000, :]\n",
    "df_b = df.iloc[100000: , :]\n",
    "\n",
    "\n",
    "df_test = pd.concat([df_a, df_b], axis=1)\n",
    "\n",
    "df_train = df.iloc[5000:100000]\n",
    "\n",
    "\n",
    "\n",
    "df_test_1 = df[df['Label'] ==1]\n",
    "\n",
    "df_test_final = df_test_1.ix[np.random.choice(df_test_1.index, 1000)]\n",
    "\n",
    "df_test_final.shape\n",
    "\n",
    "\n",
    "df_test_final.to_csv('1000_with_brca.csv', index = None, header = True)\n",
    "\n",
    "df_train.to_csv('1000_with_brca_train.csv', index = None)"
   ]
  },
  {
   "cell_type": "markdown",
   "metadata": {},
   "source": [
    "### Brca"
   ]
  },
  {
   "cell_type": "code",
   "execution_count": 53,
   "metadata": {
    "collapsed": true
   },
   "outputs": [],
   "source": [
    "import pandas as pd\n",
    "import numpy as np\n",
    "\n",
    "df = pd.read_csv('PVP_data_no_brca.csv')\n",
    "\n",
    "\n",
    "\n",
    "df_a = df.iloc[0:3000, :]\n",
    "df_b = df.iloc[80000: , :]\n",
    "\n",
    "\n",
    "df_test = pd.concat([df_a, df_b], axis=1)\n",
    "\n",
    "df_train = df.iloc[3000:80000]\n",
    "\n",
    "\n",
    "\n",
    "df_test_1 = df[df['Label'] ==1]\n",
    "\n",
    "df_test_final = df_test_1.ix[np.random.choice(df_test_1.index, 1000)]\n",
    "\n",
    "df_test_final.shape\n",
    "\n",
    "\n",
    "df_test_final.to_csv('1000_without_brca.csv', index = None, header = True)\n",
    "df_train.to_csv('1000_without_brca_train.csv', index = None, header = None)"
   ]
  }
 ],
 "metadata": {
  "kernelspec": {
   "display_name": "Python 2",
   "language": "python",
   "name": "python2"
  },
  "language_info": {
   "codemirror_mode": {
    "name": "ipython",
    "version": 2
   },
   "file_extension": ".py",
   "mimetype": "text/x-python",
   "name": "python",
   "nbconvert_exporter": "python",
   "pygments_lexer": "ipython2",
   "version": "2.7.13"
  }
 },
 "nbformat": 4,
 "nbformat_minor": 2
}
